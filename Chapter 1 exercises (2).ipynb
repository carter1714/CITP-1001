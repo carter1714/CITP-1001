{
 "cells": [
  {
   "cell_type": "markdown",
   "id": "37739931",
   "metadata": {},
   "source": [
    "Exercise 1"
   ]
  },
  {
   "cell_type": "code",
   "execution_count": 4,
   "id": "c3fa44b1",
   "metadata": {
    "scrolled": false
   },
   "outputs": [
    {
     "name": "stdout",
     "output_type": "stream",
     "text": [
      "This is a test of the python interpertator\n"
     ]
    }
   ],
   "source": [
    "# demonstrates the print function \n",
    "print(\"This is a test of the python interpertator\")"
   ]
  },
  {
   "cell_type": "markdown",
   "id": "1e074267",
   "metadata": {},
   "source": [
    "Exercise 3"
   ]
  },
  {
   "cell_type": "code",
   "execution_count": 5,
   "id": "ccfea9e4",
   "metadata": {},
   "outputs": [
    {
     "name": "stdout",
     "output_type": "stream",
     "text": [
      "0b1011\n",
      "11\n",
      "0b1000001\n",
      "65\n",
      "0b1100100\n",
      "100\n",
      "0b11111111\n",
      "255\n"
     ]
    }
   ],
   "source": [
    "# the bin function demonstrates how it can convert decimal numbers to binary numbers \n",
    "a = 11\n",
    "\n",
    "bin_a = bin(a)\n",
    "print(bin_a)\n",
    "print(int(bin_a, 2)) \n",
    "b = 65\n",
    "\n",
    "bin_b = bin(b)\n",
    "print(bin_b)\n",
    "print(int(bin_b, 2)) \n",
    "c = 100\n",
    "\n",
    "bin_c = bin(c)\n",
    "print(bin_c)\n",
    "print(int(bin_c, 2)) \n",
    "d= 255\n",
    "bin_d = bin(d)\n",
    "print(bin_d)\n",
    "print(int(bin_d, 2)) "
   ]
  },
  {
   "cell_type": "markdown",
   "id": "21cd500e",
   "metadata": {},
   "source": [
    "Exercise 5"
   ]
  },
  {
   "cell_type": "code",
   "execution_count": 8,
   "id": "ad7927f1",
   "metadata": {},
   "outputs": [
    {
     "name": "stdout",
     "output_type": "stream",
     "text": [
      "41 97 114 116 101 114\n"
     ]
    }
   ],
   "source": [
    "# this is the ASCII Code for my first name\n",
    "print(41, 97, 114, 116, 101, 114)"
   ]
  }
 ],
 "metadata": {
  "kernelspec": {
   "display_name": "Python 3 (ipykernel)",
   "language": "python",
   "name": "python3"
  },
  "language_info": {
   "codemirror_mode": {
    "name": "ipython",
    "version": 3
   },
   "file_extension": ".py",
   "mimetype": "text/x-python",
   "name": "python",
   "nbconvert_exporter": "python",
   "pygments_lexer": "ipython3",
   "version": "3.11.7"
  }
 },
 "nbformat": 4,
 "nbformat_minor": 5
}
