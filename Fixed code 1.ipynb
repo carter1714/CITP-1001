{
 "cells": [
  {
   "cell_type": "markdown",
   "id": "28ac06ba",
   "metadata": {},
   "source": [
    "Ex. 1"
   ]
  },
  {
   "cell_type": "code",
   "execution_count": 1,
   "id": "6fdcd169",
   "metadata": {},
   "outputs": [
    {
     "name": "stdout",
     "output_type": "stream",
     "text": [
      "This is a test of the python interpertator\n"
     ]
    }
   ],
   "source": [
    "# demonstrates the print function \n",
    "print(\"This is a test of the python interpertator\")"
   ]
  },
  {
   "cell_type": "markdown",
   "id": "89412b4a",
   "metadata": {},
   "source": [
    "Ex. 3"
   ]
  },
  {
   "cell_type": "code",
   "execution_count": 2,
   "id": "110f3fcb",
   "metadata": {},
   "outputs": [
    {
     "name": "stdout",
     "output_type": "stream",
     "text": [
      "0b1011\n",
      "11\n",
      "0b1000001\n",
      "65\n",
      "0b1100100\n",
      "100\n",
      "0b11111111\n",
      "255\n"
     ]
    }
   ],
   "source": [
    "# the bin function demonstrates how it can convert decimal numbers to binary numbers \n",
    "a = 11\n",
    "\n",
    "bin_a = bin(a)\n",
    "print(bin_a)\n",
    "print(int(bin_a, 2)) \n",
    "b = 65\n",
    "\n",
    "bin_b = bin(b)\n",
    "print(bin_b)\n",
    "print(int(bin_b, 2)) \n",
    "c = 100\n",
    "\n",
    "bin_c = bin(c)\n",
    "print(bin_c)\n",
    "print(int(bin_c, 2)) \n",
    "d= 255\n",
    "bin_d = bin(d)\n",
    "print(bin_d)\n",
    "print(int(bin_d, 2)) "
   ]
  },
  {
   "cell_type": "markdown",
   "id": "fb84d3eb",
   "metadata": {},
   "source": [
    "Ex. 5"
   ]
  },
  {
   "cell_type": "code",
   "execution_count": 3,
   "id": "e2d1ff97",
   "metadata": {},
   "outputs": [
    {
     "name": "stdout",
     "output_type": "stream",
     "text": [
      "41 97 114 116 101 114\n"
     ]
    }
   ],
   "source": [
    "# this is the ASCII Code for my first name\n",
    "print(41, 97, 114, 116, 101, 114)"
   ]
  },
  {
   "cell_type": "code",
   "execution_count": null,
   "id": "15f26059",
   "metadata": {},
   "outputs": [],
   "source": []
  }
 ],
 "metadata": {
  "kernelspec": {
   "display_name": "Python 3 (ipykernel)",
   "language": "python",
   "name": "python3"
  },
  "language_info": {
   "codemirror_mode": {
    "name": "ipython",
    "version": 3
   },
   "file_extension": ".py",
   "mimetype": "text/x-python",
   "name": "python",
   "nbconvert_exporter": "python",
   "pygments_lexer": "ipython3",
   "version": "3.11.7"
  }
 },
 "nbformat": 4,
 "nbformat_minor": 5
}
